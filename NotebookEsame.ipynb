{
  "cells": [
    {
      "cell_type": "markdown",
      "metadata": {
        "id": "yiu8PmOOulqS"
      },
      "source": [
        "# **ESERCIZIO D'ESAME**\n",
        "L'esercizio d'esame prevede l'analisi dell'andamento dei contagi del virus Covis 19, nella regione Puglia.\n",
        "\n"
      ]
    },
